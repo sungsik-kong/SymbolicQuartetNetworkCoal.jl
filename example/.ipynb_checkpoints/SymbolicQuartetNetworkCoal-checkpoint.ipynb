{
 "cells": [
  {
   "cell_type": "code",
   "execution_count": 1,
   "id": "b664d30d-7619-4612-a089-e25d8e7aa5ff",
   "metadata": {},
   "outputs": [
    {
     "name": "stderr",
     "output_type": "stream",
     "text": [
      "\u001b[36m\u001b[1m[ \u001b[22m\u001b[39m\u001b[36m\u001b[1mInfo: \u001b[22m\u001b[39mPrecompiling SymbolicQuartetNetworkCoal [4201568c-2e61-4571-8a9c-4da1ec7770d0] (cache misses: mismatched flags (16))\n"
     ]
    }
   ],
   "source": [
    "using SymbolicQuartetNetworkCoal"
   ]
  },
  {
   "cell_type": "code",
   "execution_count": 2,
   "id": "9575137d-45b1-4884-be7a-3ebe3a358ac8",
   "metadata": {},
   "outputs": [
    {
     "name": "stdout",
     "output_type": "stream",
     "text": [
      "⠀⠀⠀⠀⠀⠀⠀⠀⠀⠀⠀⠀⠀⠀⠀⠀⠀⠀⠀⣀⣠⣤⣴⠂⢀⡀⠀⢀⣤⣀⠀⠀⠀⠀⠀⠀⠀⠀⠀⠀⠀⠀⠀⠀⠀⠀\n",
      "⠀⠀⠀⠀⠀⠀⠀⠀⠀⠀⠀⠀⣤⣤⣄⣠⣀⠀⠘⠋⠉⠉⠁⠀⠺⣿⡷⣿⣿⣿⡿⠀⢀⡀⠀⠀⠀⠀⠀⠀⠀⠀⠀⠀⠀⠀\n",
      "⠀⠀⠀⠀⠀⠀⠀⠀⠀⠀⠀⣠⣿⣿⣛⠛⠉⠀⠀⠀⠀⠺⣷⣦⠀⠀⠀⠙⠛⠉⠀⠀⠈⣿⣦⣤⣄⠀⠀⠀⠀⠀⠀⠀⠀⠀\n",
      "⠀⠀⠀⠀⠀⠀⠀⢀⣴⣿⣆⠀⠈⠉⠁⠀⠀⠀⠀⠀⠀⠀⠙⠉⠀⠀⢸⣦⠀⠀⠀⢀⣼⣿⣿⣿⣿⣷⡄⠀⠀⠀⠀⠀⠀⠀\n",
      "⠀⠀⠀⠀⠀⠀⠀⢺⣿⣿⡿⠁⠀⠀⠀⠀⠀⠀⠀⠀⠀⠀⠀⠀⠀⠀⠀⠀⠀⠀⠀⢻⣿⣿⣿⣿⣿⣿⣧⡀⠀⠀⠀⠀⠀⠀\n",
      "⠀⠀⠀⠀⠀⢀⡆⠈⠁⠀⠀⠀⠀⠀⠀⠀⠀⠀⠀⢀⣠⣤⣤⣀⠀⠀⠀⠀⠀⠀⠀⠘⣿⣿⣿⣿⣿⣿⣿⣷⠄⠀⠀⠀⠀⠀\n",
      "⢠⣾⣷⣦⡀⠘⠇⠀⠀⠀⠀⠀⠀⠀⠀⠀⠀⠀⣰⣿⣿⣿⣿⣿⣷⣦⡀⠀⠀⠀⠀⢠⣿⣿⣿⡿⠟⠛⠋⠁⣀⣠⣤⣄⣀⠀\n",
      "⠘⣿⣿⣿⣷⣄⠀⠀⠀⠀⠀⠀⠀⠀⢠⣴⣾⣶⣿⣿⣿⣿⣿⣿⣟⠘⣿⣷⡀⠀⠀⠘⠿⡿⠉⠀⠀⣀⣴⣾⣿⣿⣿⣿⡿⡂\n",
      "⠀⠈⠿⢟⣿⣿⣆⠀⠀⠀⠀⢀⣤⣤⣿⣿⣿⣿⣿⣎⠛⢫⣿⣿⣿⣷⡘⢿⣿⣆⠀⠀⠀⠀⠀⢀⣾⣿⣿⣿⣿⣿⡿⠛⠋⠁\n",
      "⠀⠀⠀⢺⣿⣿⣿⣷⡄⠀⢰⣿⣿⣿⣯⠹⣿⣿⣿⣷⣶⡜⢿⣿⣿⣿⣷⡄⠹⣿⣷⣄⠀⠀⣴⣼⣿⣿⣿⣿⠟⠉⠀⠀⠀⠀\n",
      "⠀⠀⠀⠀⠙⢻⣿⣿⣿⣦⡘⢿⣿⣿⣿⣃⠉⢿⣿⣿⣿⣿⡌⢻⣝⠻⠿⢃⡀⣿⣿⣿⣷⣶⣿⣿⣿⣿⡿⠃⠀⠀⠀⠀⠀⠀\n",
      "⠀⠀⠀⠀⠀⠀⢻⣿⣿⣿⣷⣄⠛⣿⣿⣿⣿⣄⠻⣿⣿⣿⣿⡆⠙⠷⠶⠟⢠⣿⣿⣿⣿⣿⣿⣿⣿⡟⠁⠀⠀⠀⠀⠀⠀⠀\n",
      "⠀⠀⠀⠀⠀⠀⠀⠙⢿⣿⣿⣿⡇⠈⠻⣿⣿⣿⣷⠘⠧⣉⣁⡴⠀⢠⣤⣶⣿⣿⣿⣿⣿⣿⣿⣿⡟⠀⠀⠀⠀⠀⠀⠀⠀⠀\n",
      "⠀⠀⠀⠀⠀⠀⠀⠀⠈⢿⣿⣿⣿⣷⣄⠙⠧⣍⣩⡜⢀⣀⣀⠄⣴⣿⣿⣿⣿⣿⣿⣿⣿⣿⣿⠏⠀⠀⠀⠀⠀⠀⠀⠀⠀⠀\n",
      "⠀⠀⠀⠀⠀⠀⠀⠀⠀⠈⢿⣿⣿⣿⣿⣷⣦⣄⣀⣤⣾⣿⣿⣼⣿⣿⣿⣿⣿⣿⣿⣿⣿⣿⠏⠀⠀⠀⠀⠀⠀⠀⠀⠀⠀⠀\n",
      "⠀⠀⠀⠀⠀⠀⠀⠀⠀⠀⠀⠻⣿⣿⣿⣿⣿⣿⣿⣿⣿⣿⣿⣿⣿⣿⣿⣿⣿⣿⣿⣿⡿⠋⠀⠀⠀⠀⠀⠀⠀⠀⠀⠀⠀⠀\n",
      "⠀⠀⠀⠀⠀⠀⠀⠀⠀⠀⠀⠀⠈⠻⢿⣿⣿⣿⣿⣿⣿⣿⣿⣿⣿⣿⣿⣿⣿⣿⠿⠋⠀⠀⠀⠀⠀⠀⠀⠀⠀⠀⠀⠀⠀⠀\n",
      "⠀⠀⠀⠀⠀⠀⠀⠀⠀⠀⠀⠀⠀⠀⠀⠈⠉⠛⠛⠻⠛⠛⠁⠉⠙⠛⠉⠉⠉⠀⠀⠀⠀ \n",
      "                Hawai'i-Five-O  \n"
     ]
    }
   ],
   "source": [
    "aloha()"
   ]
  },
  {
   "cell_type": "code",
   "execution_count": 3,
   "id": "6f0ba76e-706a-48cf-8e07-7f9065ed36a9",
   "metadata": {},
   "outputs": [
    {
     "data": {
      "text/plain": [
       "PhyloNetworks.HybridNetwork, Rooted Network\n",
       "14 edges\n",
       "13 nodes: 5 tips, 2 hybrid nodes, 6 internal tree nodes.\n",
       "tip labels: d, e, c, b, ...\n",
       "((((d:1.871,e:2.423):3.141)#H5:4.274::0.51,#H2:5.731::0.976):6.997,(((c:7.009,#H5:8.401::0.49):9.17,(b:10.846,a:11.772):12.81):13.345)#H2:14.421::0.024);\n"
      ]
     },
     "execution_count": 3,
     "metadata": {},
     "output_type": "execute_result"
    }
   ],
   "source": [
    "net=readTopologyrand(\"((((d,e))#H5,#H2),(((c,#H5),(b,a)))#H2);\")"
   ]
  },
  {
   "cell_type": "code",
   "execution_count": 12,
   "id": "4753f11a-ba10-47c2-ab09-404627f2b848",
   "metadata": {},
   "outputs": [
    {
     "name": "stdout",
     "output_type": "stream",
     "text": [
      "  0.012014 seconds (226.81 k allocations: 14.509 MiB, 21.29% gc time)\n"
     ]
    },
    {
     "data": {
      "text/plain": [
       "(PhyloNetworks.QuartetT{StaticArraysCore.MVector{3, Float64}}[4-taxon set number 1; taxon numbers: 1,2,3,4\n",
       "data: [0.9999990701719401, 4.649140299433982e-7, 4.649140299433982e-7], 4-taxon set number 2; taxon numbers: 1,2,3,5\n",
       "data: [0.9999990701719401, 4.649140299433982e-7, 4.649140299433982e-7], 4-taxon set number 3; taxon numbers: 1,2,4,5\n",
       "data: [0.9999999606313313, 1.9684334334164523e-8, 1.9684334334164523e-8], 4-taxon set number 4; taxon numbers: 1,3,4,5\n",
       "data: [0.9783977965948508, 0.010801101702574608, 0.010801101702574608], 4-taxon set number 5; taxon numbers: 2,3,4,5\n",
       "data: [0.9783977965948508, 0.010801101702574608, 0.010801101702574608]], [\"a\", \"b\", \"c\", \"d\", \"e\"])"
      ]
     },
     "execution_count": 12,
     "metadata": {},
     "output_type": "execute_result"
    }
   ],
   "source": [
    "@time network_expectedCF_formulas(net)"
   ]
  },
  {
   "cell_type": "code",
   "execution_count": 13,
   "id": "aa66e9e5-8db5-4561-b5a3-d07d46446eec",
   "metadata": {},
   "outputs": [
    {
     "name": "stdout",
     "output_type": "stream",
     "text": [
      "  0.010422 seconds (226.81 k allocations: 14.509 MiB, 12.67% gc time)\n"
     ]
    },
    {
     "data": {
      "text/plain": [
       "(PhyloNetworks.QuartetT{StaticArraysCore.MVector{3, Float64}}[4-taxon set number 1; taxon numbers: 1,2,3,4\n",
       "data: [0.9999990701719401, 4.649140299433982e-7, 4.649140299433982e-7], 4-taxon set number 2; taxon numbers: 1,2,3,5\n",
       "data: [0.9999990701719401, 4.649140299433982e-7, 4.649140299433982e-7], 4-taxon set number 3; taxon numbers: 1,2,4,5\n",
       "data: [0.9999999606313313, 1.9684334334164523e-8, 1.9684334334164523e-8], 4-taxon set number 4; taxon numbers: 1,3,4,5\n",
       "data: [0.9783977965948508, 0.010801101702574608, 0.010801101702574608], 4-taxon set number 5; taxon numbers: 2,3,4,5\n",
       "data: [0.9783977965948508, 0.010801101702574608, 0.010801101702574608]], [\"a\", \"b\", \"c\", \"d\", \"e\"])"
      ]
     },
     "execution_count": 13,
     "metadata": {},
     "output_type": "execute_result"
    }
   ],
   "source": [
    "@time network_expectedCF_formulas(net, symbolic=false)"
   ]
  },
  {
   "cell_type": "code",
   "execution_count": 14,
   "id": "27f0ae07-849a-4835-ad4a-ed6bc15fcffb",
   "metadata": {},
   "outputs": [
    {
     "name": "stdout",
     "output_type": "stream",
     "text": [
      "  0.011707 seconds (229.79 k allocations: 14.621 MiB, 20.02% gc time)\n"
     ]
    },
    {
     "data": {
      "text/plain": [
       "(PhyloNetworks.QuartetT{StaticArraysCore.MVector{3, Float64}}[4-taxon set number 1; taxon numbers: 1,2,3,4\n",
       "data: [0.9999990701719401, 4.649140299433982e-7, 4.649140299433982e-7], 4-taxon set number 2; taxon numbers: 1,2,3,5\n",
       "data: [0.9999990701719401, 4.649140299433982e-7, 4.649140299433982e-7], 4-taxon set number 3; taxon numbers: 1,2,4,5\n",
       "data: [0.9999999606313313, 1.9684334334164523e-8, 1.9684334334164523e-8], 4-taxon set number 4; taxon numbers: 1,3,4,5\n",
       "data: [0.9783977965948508, 0.010801101702574608, 0.010801101702574608], 4-taxon set number 5; taxon numbers: 2,3,4,5\n",
       "data: [0.9783977965948508, 0.010801101702574608, 0.010801101702574608]], [\"a\", \"b\", \"c\", \"d\", \"e\"])"
      ]
     },
     "execution_count": 14,
     "metadata": {},
     "output_type": "execute_result"
    }
   ],
   "source": [
    "@time network_expectedCF_formulas(net, symbolic=true)"
   ]
  },
  {
   "cell_type": "code",
   "execution_count": null,
   "id": "e2b4c613-9d93-45d9-9542-8cd7295a293f",
   "metadata": {},
   "outputs": [],
   "source": []
  },
  {
   "cell_type": "code",
   "execution_count": null,
   "id": "262589b1-f55a-4054-8e53-ae3c082ce43c",
   "metadata": {},
   "outputs": [],
   "source": []
  },
  {
   "cell_type": "code",
   "execution_count": null,
   "id": "a575baa5-b0c5-4668-b3d7-34e52ae632a1",
   "metadata": {},
   "outputs": [],
   "source": []
  }
 ],
 "metadata": {
  "kernelspec": {
   "display_name": "Julia 1.11.6",
   "language": "julia",
   "name": "julia-1.11"
  },
  "language_info": {
   "file_extension": ".jl",
   "mimetype": "application/julia",
   "name": "julia",
   "version": "1.11.6"
  }
 },
 "nbformat": 4,
 "nbformat_minor": 5
}
